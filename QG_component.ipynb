{
  "nbformat": 4,
  "nbformat_minor": 0,
  "metadata": {
    "colab": {
      "provenance": [],
      "collapsed_sections": []
    },
    "kernelspec": {
      "name": "python3",
      "display_name": "Python 3"
    },
    "language_info": {
      "name": "python"
    },
    "accelerator": "GPU",
    "gpuClass": "standard"
  },
  "cells": [
    {
      "cell_type": "markdown",
      "source": [
        "#Install and Import libraries"
      ],
      "metadata": {
        "id": "Ntb-S-iCOHJI"
      }
    },
    {
      "cell_type": "code",
      "source": [
        "!git clone https://github.com/amontgomerie/question_generator\n",
        "%cd question_generator/\n",
        "!git reset --hard   50982ff2e6dffc752b7debc938126ff51a61278a \n",
        "!python -m pip install -e .\n",
        "%cd .."
      ],
      "metadata": {
        "id": "E0hfHc1sNXaM"
      },
      "execution_count": null,
      "outputs": []
    },
    {
      "cell_type": "code",
      "execution_count": null,
      "metadata": {
        "id": "XxOwgHtdJ9rG"
      },
      "outputs": [],
      "source": [
        "!pip install --upgrade git+https://github.com/ramsrigouthamg/Questgen.ai\n",
        "!pip install --quiet git+https://github.com/boudinfl/pke.git@69337af9f9e72a25af6d7991eaa9869f1322dd72"
      ]
    },
    {
      "cell_type": "code",
      "source": [
        "!python -m nltk.downloader universal_tagset\n",
        "!python -m spacy download en"
      ],
      "metadata": {
        "id": "JLRxNw2w4Qlo"
      },
      "execution_count": null,
      "outputs": []
    },
    {
      "cell_type": "code",
      "source": [
        "!wget https://github.com/explosion/sense2vec/releases/download/v1.0.0/s2v_reddit_2015_md.tar.gz\n",
        "!tar -xvf  s2v_reddit_2015_md.tar.gz"
      ],
      "metadata": {
        "id": "pBTZvn_s4Xqa"
      },
      "execution_count": null,
      "outputs": []
    },
    {
      "cell_type": "markdown",
      "source": [
        "# Restart Runtime\n",
        "\n",
        "We need to restart runtime after installing the required libraries by running the following command"
      ],
      "metadata": {
        "id": "htBjiUKZ99cD"
      }
    },
    {
      "cell_type": "code",
      "source": [
        "import os\n",
        "os.kill(os.getpid(), 9)"
      ],
      "metadata": {
        "id": "VxX4ifJdxlVY"
      },
      "execution_count": null,
      "outputs": []
    },
    {
      "cell_type": "markdown",
      "source": [
        "# Now we import our libraries"
      ],
      "metadata": {
        "id": "uWP9Bg7z-JM5"
      }
    },
    {
      "cell_type": "code",
      "source": [
        "import nltk,warnings,os,contextlib\n",
        "nltk.download('stopwords')\n",
        "warnings.filterwarnings('ignore')\n",
        "import pandas as pd\n",
        "from tqdm import tqdm\n",
        "pd.set_option('display.max_colwidth', 0)\n",
        "import ipywidgets as widgets\n",
        "import numpy as np\n",
        "from questiongenerator import QuestionGenerator\n",
        "from Questgen import main\n",
        "qgt5 = QuestionGenerator()\n",
        "qg = main.QGen()"
      ],
      "metadata": {
        "id": "54XdqMgNNhra"
      },
      "execution_count": null,
      "outputs": []
    },
    {
      "cell_type": "markdown",
      "source": [
        "#Define main functions"
      ],
      "metadata": {
        "id": "1NQvAoW2OV9J"
      }
    },
    {
      "cell_type": "code",
      "source": [
        "def getContext(paras,maxlen=500,minlen=10):\n",
        "  context=[]\n",
        "  i=0\n",
        "  while i<len(paras):\n",
        "    lp=len(nltk.word_tokenize(paras[i]))\n",
        "    if not paras[i] or lp<minlen or paras[i].strip()[-1]!='.':\n",
        "      i+=1\n",
        "    elif lp<maxlen:\n",
        "      context.append(paras[i])\n",
        "      i+=1\n",
        "    else:\n",
        "      sents=nltk.sent_tokenize(paras[i])\n",
        "      sentences=[]\n",
        "      l=0\n",
        "      j=0\n",
        "      while j<len(sents):\n",
        "        ll=len(nltk.word_tokenize(sents[j]))\n",
        "        if ll+l<maxlen:\n",
        "          sentences.append(sents[j])\n",
        "          l+=ll\n",
        "        else:\n",
        "          context.append(' '.join(sentences))\n",
        "          sentences=[]\n",
        "          l=0\n",
        "          sentences.append(sents[j-1])\n",
        "          sentences.append(sents[j])\n",
        "          l+=len(nltk.word_tokenize(sents[j-1]))\n",
        "          l+=ll\n",
        "        j+=1\n",
        "      if sentences:\n",
        "        context.append(' '.join(sentences))\n",
        "      i+=1\n",
        "  return context"
      ],
      "metadata": {
        "id": "HNQREe9bM7Pr"
      },
      "execution_count": null,
      "outputs": []
    },
    {
      "cell_type": "code",
      "source": [
        "def getMFQ(context,force=False):\n",
        "  li=[]\n",
        "  totalq=0\n",
        "  for c in tqdm(context):\n",
        "    with open(os.devnull, \"w\") as f, contextlib.redirect_stdout(f):\n",
        "      output=qg.predict_mcq({\"input_text\": c})\n",
        "      if 'questions' in output:\n",
        "        for q in output['questions']:\n",
        "          totalq+=1\n",
        "          li.append([c,q['question_statement'],q['answer'],'Multichoice'])\n",
        "      output=qg.predict_shortq({\"input_text\": c})\n",
        "      if 'questions' in output:\n",
        "        for q in output['questions']:\n",
        "          totalq+=1\n",
        "          li.append([c,q['Question'],q['Answer'],'Multichoice'])\n",
        "      output=qgt5.generate(c,answer_style='multiple_choice',use_evaluator=False)\n",
        "      for q in output:\n",
        "        for a in q['answer']:\n",
        "          if a['correct']:\n",
        "            totalq+=1\n",
        "            li.append([c,q['question'],a['answer'],'Multichoice'])\n",
        "      output=qgt5.generate(c,answer_style='sentences',use_evaluator=False)\n",
        "      for q in output:\n",
        "          a=q['answer']\n",
        "          totalq+=1\n",
        "          if force:\n",
        "            for s in nltk.sent_tokenize(c):\n",
        "              if a.replace(' ','') in s.replace(' ',''):\n",
        "                li.append([c,q['question'],s,'Full Sentence'])\n",
        "                break\n",
        "          else:\n",
        "            li.append([c,q['question'],a,'Full Sentence'])\n",
        "  print(\"### MFQ\",totalq)\n",
        "  MCQFQ=pd.DataFrame(li,columns=[\"Context\",\"Question\",\"Answer\",\"Type\"])\n",
        "  return MCQFQ"
      ],
      "metadata": {
        "id": "pTCQw71gMU-l"
      },
      "execution_count": null,
      "outputs": []
    },
    {
      "cell_type": "markdown",
      "source": [
        "#Run "
      ],
      "metadata": {
        "id": "BwWaXfcgOXya"
      }
    },
    {
      "cell_type": "markdown",
      "source": [
        "You can provide the path to a text file as **filename** variable\n",
        "\n",
        "Or input the text directly as a string in the **text** variable\n",
        "\n",
        "change the boolean variable **isString** according to your choice"
      ],
      "metadata": {
        "id": "TuzWMrUyOyBb"
      }
    },
    {
      "cell_type": "code",
      "source": [
        "text=\"\"\"\n",
        "Crew Transportation: Nominal: The Lunar Exploration Light Rover needs to be designed in a way that is upgradeable to transport one EVA-suited crew member. EVA Embarcation: When upgrade to transport astronaut, the Lunar Exploration Light Rover shall provide convenient access for EVA crew to embark and disembark. Cargo Transportation: The Lunar Exploration Light Rover shall transport cargo items.\\n\n",
        "The Lunar Exploration Light Rover shall accelerate back up to 15 km/h within ten seconds of stopping, and initiate each stop within ten seconds of reaching 15 km/h. For each of the five stops, the Lunar Exploration Light Rover shall stop within a distance of 4.2 m. Obstacle Crossing: The Lunar Exploration Light Rover is required to drive at low speed over obstacles of up to 0.3 m wide, 0.3 m long, and up to 0.3 m high with edges rounded to a radius of 0.05m. The Lunar Exploration Light Rover needs to be able to pass over an obstacle with a height of 0.35 m and a width of 0.7 m. No projection of the Lunar Exploration Light Rover shall be closer to the ground than 0.35 m, other than the wheels, suspension and drivetrain components. Maximum Gradient: The Lunar Exploration Light Rover shall be able to start and stop in a controlled fashion while ascending or descending a 25° slope at maximum gross vehicle weight. Performance: There shall be no stalling, slipping, overheating, upsetting or hesitation.\n",
        "\"\"\""
      ],
      "metadata": {
        "id": "RgD6-gYAuukF"
      },
      "execution_count": null,
      "outputs": []
    },
    {
      "cell_type": "code",
      "source": [
        "isString=True\n",
        "if isString:\n",
        "  doc=text.split('\\n')\n",
        "else:\n",
        "  filename=\"path/to/file.txt\"\n",
        "  tf=open(filename,\"r\")\n",
        "  doc=tf.read().split('\\n')\n",
        "  tf.close() "
      ],
      "metadata": {
        "id": "2gau2yDoMUrX"
      },
      "execution_count": null,
      "outputs": []
    },
    {
      "cell_type": "markdown",
      "source": [
        "Now we split the text into contexts and generate Q-A pairs"
      ],
      "metadata": {
        "id": "jx_UJc-dO9CG"
      }
    },
    {
      "cell_type": "code",
      "source": [
        "contexts=getContext(doc,maxlen=125)\n",
        "qaPairs=getMFQ(contexts)"
      ],
      "metadata": {
        "id": "pWBOquYXO8qm",
        "colab": {
          "base_uri": "https://localhost:8080/"
        },
        "outputId": "15e23e01-dd40-4238-e9e7-3fbcb05c2172"
      },
      "execution_count": null,
      "outputs": [
        {
          "output_type": "stream",
          "name": "stderr",
          "text": [
            "100%|██████████| 4/4 [00:43<00:00, 10.78s/it]"
          ]
        },
        {
          "output_type": "stream",
          "name": "stdout",
          "text": [
            "### MFQ 85\n"
          ]
        },
        {
          "output_type": "stream",
          "name": "stderr",
          "text": [
            "\n"
          ]
        }
      ]
    },
    {
      "cell_type": "code",
      "source": [
        "qaPairs"
      ],
      "metadata": {
        "id": "zUqudYq3WFCR",
        "colab": {
          "base_uri": "https://localhost:8080/",
          "height": 1000
        },
        "outputId": "cbfa6f84-16c2-4491-9684-8e5f7edaa1d4"
      },
      "execution_count": null,
      "outputs": [
        {
          "output_type": "execute_result",
          "data": {
            "text/plain": [
              "                                                                                                                                                                                                                                                                                                                                                                                                                                                                                                                                                                 Context  \\\n",
              "0   Crew Transportation: Nominal: The Lunar Exploration Light Rover needs to be designed in a way that is upgradeable to transport one EVA-suited crew member. EVA Embarcation: When upgrade to transport astronaut, the Lunar Exploration Light Rover shall provide convenient access for EVA crew to embark and disembark. Cargo Transportation: The Lunar Exploration Light Rover shall transport cargo items.                                                                                                                                                          \n",
              "1   Crew Transportation: Nominal: The Lunar Exploration Light Rover needs to be designed in a way that is upgradeable to transport one EVA-suited crew member. EVA Embarcation: When upgrade to transport astronaut, the Lunar Exploration Light Rover shall provide convenient access for EVA crew to embark and disembark. Cargo Transportation: The Lunar Exploration Light Rover shall transport cargo items.                                                                                                                                                          \n",
              "2   Crew Transportation: Nominal: The Lunar Exploration Light Rover needs to be designed in a way that is upgradeable to transport one EVA-suited crew member. EVA Embarcation: When upgrade to transport astronaut, the Lunar Exploration Light Rover shall provide convenient access for EVA crew to embark and disembark. Cargo Transportation: The Lunar Exploration Light Rover shall transport cargo items.                                                                                                                                                          \n",
              "3   Crew Transportation: Nominal: The Lunar Exploration Light Rover needs to be designed in a way that is upgradeable to transport one EVA-suited crew member. EVA Embarcation: When upgrade to transport astronaut, the Lunar Exploration Light Rover shall provide convenient access for EVA crew to embark and disembark. Cargo Transportation: The Lunar Exploration Light Rover shall transport cargo items.                                                                                                                                                          \n",
              "4   Crew Transportation: Nominal: The Lunar Exploration Light Rover needs to be designed in a way that is upgradeable to transport one EVA-suited crew member. EVA Embarcation: When upgrade to transport astronaut, the Lunar Exploration Light Rover shall provide convenient access for EVA crew to embark and disembark. Cargo Transportation: The Lunar Exploration Light Rover shall transport cargo items.                                                                                                                                                          \n",
              "..                                                                                                                                                                                                                                                                                                                                                                                                            ...                                                                                                                                                          \n",
              "80  The Lunar Exploration Light Rover needs to be able to pass over an obstacle with a height of 0.35 m and a width of 0.7 m. No projection of the Lunar Exploration Light Rover shall be closer to the ground than 0.35 m, other than the wheels, suspension and drivetrain components. Maximum Gradient: The Lunar Exploration Light Rover shall be able to start and stop in a controlled fashion while ascending or descending a 25° slope at maximum gross vehicle weight. Performance: There shall be no stalling, slipping, overheating, upsetting or hesitation.   \n",
              "81  The Lunar Exploration Light Rover needs to be able to pass over an obstacle with a height of 0.35 m and a width of 0.7 m. No projection of the Lunar Exploration Light Rover shall be closer to the ground than 0.35 m, other than the wheels, suspension and drivetrain components. Maximum Gradient: The Lunar Exploration Light Rover shall be able to start and stop in a controlled fashion while ascending or descending a 25° slope at maximum gross vehicle weight. Performance: There shall be no stalling, slipping, overheating, upsetting or hesitation.   \n",
              "82  The Lunar Exploration Light Rover needs to be able to pass over an obstacle with a height of 0.35 m and a width of 0.7 m. No projection of the Lunar Exploration Light Rover shall be closer to the ground than 0.35 m, other than the wheels, suspension and drivetrain components. Maximum Gradient: The Lunar Exploration Light Rover shall be able to start and stop in a controlled fashion while ascending or descending a 25° slope at maximum gross vehicle weight. Performance: There shall be no stalling, slipping, overheating, upsetting or hesitation.   \n",
              "83  The Lunar Exploration Light Rover needs to be able to pass over an obstacle with a height of 0.35 m and a width of 0.7 m. No projection of the Lunar Exploration Light Rover shall be closer to the ground than 0.35 m, other than the wheels, suspension and drivetrain components. Maximum Gradient: The Lunar Exploration Light Rover shall be able to start and stop in a controlled fashion while ascending or descending a 25° slope at maximum gross vehicle weight. Performance: There shall be no stalling, slipping, overheating, upsetting or hesitation.   \n",
              "84  The Lunar Exploration Light Rover needs to be able to pass over an obstacle with a height of 0.35 m and a width of 0.7 m. No projection of the Lunar Exploration Light Rover shall be closer to the ground than 0.35 m, other than the wheels, suspension and drivetrain components. Maximum Gradient: The Lunar Exploration Light Rover shall be able to start and stop in a controlled fashion while ascending or descending a 25° slope at maximum gross vehicle weight. Performance: There shall be no stalling, slipping, overheating, upsetting or hesitation.   \n",
              "\n",
              "                                                                             Question  \\\n",
              "0   What is the easiest way to embark on an EVA mission?                                \n",
              "1   What is the easiest way to embark on an EVA mission?                                \n",
              "2   what is the crew transportation?                                                    \n",
              "3   How many EVA-suited crew members can the Lunar Exploration Light Rover transport?   \n",
              "4   how many crew members are on the lvl?                                               \n",
              "..                                    ...                                               \n",
              "80  what is the height of the lunar exploration light rover?                            \n",
              "81  what is the london exploration light rover?                                         \n",
              "82  how tall is the london light rover?                                                 \n",
              "83  how tall is the london exploration light rover?                                     \n",
              "84  what is the performance of the london exploration light rover?                      \n",
              "\n",
              "                                                                                                                                                                                    Answer  \\\n",
              "0   disembark                                                                                                                                                                                \n",
              "1   disembark                                                                                                                                                                                \n",
              "2   Crew Transportation: Nominal:                                                                                                                                                            \n",
              "3   one                                                                                                                                                                                      \n",
              "4   Crew Transportation: Nominal: The Lunar Exploration Light Rover needs to be designed in a way that is upgradeable to transport one EVA-suited crew member.                               \n",
              "..                                                                                                                                                         ...                               \n",
              "80  No projection of the Lunar Exploration Light Rover shall be closer to the ground than 0.                                                                                                 \n",
              "81  Maximum Gradient: The Lunar Exploration Light Rover shall be able to start and stop in a controlled fashion while ascending or descending a 25° slope at maximum gross vehicle weight.   \n",
              "82  The Lunar Exploration Light Rover needs to be able to pass over an obstacle with a height of 0.                                                                                          \n",
              "83  35 m and a width of 0.                                                                                                                                                                   \n",
              "84  Performance: There shall be no stalling, slipping, overheating, upsetting or hesitation.                                                                                                 \n",
              "\n",
              "             Type  \n",
              "0   Multichoice    \n",
              "1   Multichoice    \n",
              "2   Multichoice    \n",
              "3   Multichoice    \n",
              "4   Full Sentence  \n",
              "..            ...  \n",
              "80  Full Sentence  \n",
              "81  Full Sentence  \n",
              "82  Full Sentence  \n",
              "83  Full Sentence  \n",
              "84  Full Sentence  \n",
              "\n",
              "[85 rows x 4 columns]"
            ],
            "text/html": [
              "\n",
              "  <div id=\"df-a2270773-bf9e-41be-80bc-366a7baf4a05\">\n",
              "    <div class=\"colab-df-container\">\n",
              "      <div>\n",
              "<style scoped>\n",
              "    .dataframe tbody tr th:only-of-type {\n",
              "        vertical-align: middle;\n",
              "    }\n",
              "\n",
              "    .dataframe tbody tr th {\n",
              "        vertical-align: top;\n",
              "    }\n",
              "\n",
              "    .dataframe thead th {\n",
              "        text-align: right;\n",
              "    }\n",
              "</style>\n",
              "<table border=\"1\" class=\"dataframe\">\n",
              "  <thead>\n",
              "    <tr style=\"text-align: right;\">\n",
              "      <th></th>\n",
              "      <th>Context</th>\n",
              "      <th>Question</th>\n",
              "      <th>Answer</th>\n",
              "      <th>Type</th>\n",
              "    </tr>\n",
              "  </thead>\n",
              "  <tbody>\n",
              "    <tr>\n",
              "      <th>0</th>\n",
              "      <td>Crew Transportation: Nominal: The Lunar Exploration Light Rover needs to be designed in a way that is upgradeable to transport one EVA-suited crew member. EVA Embarcation: When upgrade to transport astronaut, the Lunar Exploration Light Rover shall provide convenient access for EVA crew to embark and disembark. Cargo Transportation: The Lunar Exploration Light Rover shall transport cargo items.</td>\n",
              "      <td>What is the easiest way to embark on an EVA mission?</td>\n",
              "      <td>disembark</td>\n",
              "      <td>Multichoice</td>\n",
              "    </tr>\n",
              "    <tr>\n",
              "      <th>1</th>\n",
              "      <td>Crew Transportation: Nominal: The Lunar Exploration Light Rover needs to be designed in a way that is upgradeable to transport one EVA-suited crew member. EVA Embarcation: When upgrade to transport astronaut, the Lunar Exploration Light Rover shall provide convenient access for EVA crew to embark and disembark. Cargo Transportation: The Lunar Exploration Light Rover shall transport cargo items.</td>\n",
              "      <td>What is the easiest way to embark on an EVA mission?</td>\n",
              "      <td>disembark</td>\n",
              "      <td>Multichoice</td>\n",
              "    </tr>\n",
              "    <tr>\n",
              "      <th>2</th>\n",
              "      <td>Crew Transportation: Nominal: The Lunar Exploration Light Rover needs to be designed in a way that is upgradeable to transport one EVA-suited crew member. EVA Embarcation: When upgrade to transport astronaut, the Lunar Exploration Light Rover shall provide convenient access for EVA crew to embark and disembark. Cargo Transportation: The Lunar Exploration Light Rover shall transport cargo items.</td>\n",
              "      <td>what is the crew transportation?</td>\n",
              "      <td>Crew Transportation: Nominal:</td>\n",
              "      <td>Multichoice</td>\n",
              "    </tr>\n",
              "    <tr>\n",
              "      <th>3</th>\n",
              "      <td>Crew Transportation: Nominal: The Lunar Exploration Light Rover needs to be designed in a way that is upgradeable to transport one EVA-suited crew member. EVA Embarcation: When upgrade to transport astronaut, the Lunar Exploration Light Rover shall provide convenient access for EVA crew to embark and disembark. Cargo Transportation: The Lunar Exploration Light Rover shall transport cargo items.</td>\n",
              "      <td>How many EVA-suited crew members can the Lunar Exploration Light Rover transport?</td>\n",
              "      <td>one</td>\n",
              "      <td>Multichoice</td>\n",
              "    </tr>\n",
              "    <tr>\n",
              "      <th>4</th>\n",
              "      <td>Crew Transportation: Nominal: The Lunar Exploration Light Rover needs to be designed in a way that is upgradeable to transport one EVA-suited crew member. EVA Embarcation: When upgrade to transport astronaut, the Lunar Exploration Light Rover shall provide convenient access for EVA crew to embark and disembark. Cargo Transportation: The Lunar Exploration Light Rover shall transport cargo items.</td>\n",
              "      <td>how many crew members are on the lvl?</td>\n",
              "      <td>Crew Transportation: Nominal: The Lunar Exploration Light Rover needs to be designed in a way that is upgradeable to transport one EVA-suited crew member.</td>\n",
              "      <td>Full Sentence</td>\n",
              "    </tr>\n",
              "    <tr>\n",
              "      <th>...</th>\n",
              "      <td>...</td>\n",
              "      <td>...</td>\n",
              "      <td>...</td>\n",
              "      <td>...</td>\n",
              "    </tr>\n",
              "    <tr>\n",
              "      <th>80</th>\n",
              "      <td>The Lunar Exploration Light Rover needs to be able to pass over an obstacle with a height of 0.35 m and a width of 0.7 m. No projection of the Lunar Exploration Light Rover shall be closer to the ground than 0.35 m, other than the wheels, suspension and drivetrain components. Maximum Gradient: The Lunar Exploration Light Rover shall be able to start and stop in a controlled fashion while ascending or descending a 25° slope at maximum gross vehicle weight. Performance: There shall be no stalling, slipping, overheating, upsetting or hesitation.</td>\n",
              "      <td>what is the height of the lunar exploration light rover?</td>\n",
              "      <td>No projection of the Lunar Exploration Light Rover shall be closer to the ground than 0.</td>\n",
              "      <td>Full Sentence</td>\n",
              "    </tr>\n",
              "    <tr>\n",
              "      <th>81</th>\n",
              "      <td>The Lunar Exploration Light Rover needs to be able to pass over an obstacle with a height of 0.35 m and a width of 0.7 m. No projection of the Lunar Exploration Light Rover shall be closer to the ground than 0.35 m, other than the wheels, suspension and drivetrain components. Maximum Gradient: The Lunar Exploration Light Rover shall be able to start and stop in a controlled fashion while ascending or descending a 25° slope at maximum gross vehicle weight. Performance: There shall be no stalling, slipping, overheating, upsetting or hesitation.</td>\n",
              "      <td>what is the london exploration light rover?</td>\n",
              "      <td>Maximum Gradient: The Lunar Exploration Light Rover shall be able to start and stop in a controlled fashion while ascending or descending a 25° slope at maximum gross vehicle weight.</td>\n",
              "      <td>Full Sentence</td>\n",
              "    </tr>\n",
              "    <tr>\n",
              "      <th>82</th>\n",
              "      <td>The Lunar Exploration Light Rover needs to be able to pass over an obstacle with a height of 0.35 m and a width of 0.7 m. No projection of the Lunar Exploration Light Rover shall be closer to the ground than 0.35 m, other than the wheels, suspension and drivetrain components. Maximum Gradient: The Lunar Exploration Light Rover shall be able to start and stop in a controlled fashion while ascending or descending a 25° slope at maximum gross vehicle weight. Performance: There shall be no stalling, slipping, overheating, upsetting or hesitation.</td>\n",
              "      <td>how tall is the london light rover?</td>\n",
              "      <td>The Lunar Exploration Light Rover needs to be able to pass over an obstacle with a height of 0.</td>\n",
              "      <td>Full Sentence</td>\n",
              "    </tr>\n",
              "    <tr>\n",
              "      <th>83</th>\n",
              "      <td>The Lunar Exploration Light Rover needs to be able to pass over an obstacle with a height of 0.35 m and a width of 0.7 m. No projection of the Lunar Exploration Light Rover shall be closer to the ground than 0.35 m, other than the wheels, suspension and drivetrain components. Maximum Gradient: The Lunar Exploration Light Rover shall be able to start and stop in a controlled fashion while ascending or descending a 25° slope at maximum gross vehicle weight. Performance: There shall be no stalling, slipping, overheating, upsetting or hesitation.</td>\n",
              "      <td>how tall is the london exploration light rover?</td>\n",
              "      <td>35 m and a width of 0.</td>\n",
              "      <td>Full Sentence</td>\n",
              "    </tr>\n",
              "    <tr>\n",
              "      <th>84</th>\n",
              "      <td>The Lunar Exploration Light Rover needs to be able to pass over an obstacle with a height of 0.35 m and a width of 0.7 m. No projection of the Lunar Exploration Light Rover shall be closer to the ground than 0.35 m, other than the wheels, suspension and drivetrain components. Maximum Gradient: The Lunar Exploration Light Rover shall be able to start and stop in a controlled fashion while ascending or descending a 25° slope at maximum gross vehicle weight. Performance: There shall be no stalling, slipping, overheating, upsetting or hesitation.</td>\n",
              "      <td>what is the performance of the london exploration light rover?</td>\n",
              "      <td>Performance: There shall be no stalling, slipping, overheating, upsetting or hesitation.</td>\n",
              "      <td>Full Sentence</td>\n",
              "    </tr>\n",
              "  </tbody>\n",
              "</table>\n",
              "<p>85 rows × 4 columns</p>\n",
              "</div>\n",
              "      <button class=\"colab-df-convert\" onclick=\"convertToInteractive('df-a2270773-bf9e-41be-80bc-366a7baf4a05')\"\n",
              "              title=\"Convert this dataframe to an interactive table.\"\n",
              "              style=\"display:none;\">\n",
              "        \n",
              "  <svg xmlns=\"http://www.w3.org/2000/svg\" height=\"24px\"viewBox=\"0 0 24 24\"\n",
              "       width=\"24px\">\n",
              "    <path d=\"M0 0h24v24H0V0z\" fill=\"none\"/>\n",
              "    <path d=\"M18.56 5.44l.94 2.06.94-2.06 2.06-.94-2.06-.94-.94-2.06-.94 2.06-2.06.94zm-11 1L8.5 8.5l.94-2.06 2.06-.94-2.06-.94L8.5 2.5l-.94 2.06-2.06.94zm10 10l.94 2.06.94-2.06 2.06-.94-2.06-.94-.94-2.06-.94 2.06-2.06.94z\"/><path d=\"M17.41 7.96l-1.37-1.37c-.4-.4-.92-.59-1.43-.59-.52 0-1.04.2-1.43.59L10.3 9.45l-7.72 7.72c-.78.78-.78 2.05 0 2.83L4 21.41c.39.39.9.59 1.41.59.51 0 1.02-.2 1.41-.59l7.78-7.78 2.81-2.81c.8-.78.8-2.07 0-2.86zM5.41 20L4 18.59l7.72-7.72 1.47 1.35L5.41 20z\"/>\n",
              "  </svg>\n",
              "      </button>\n",
              "      \n",
              "  <style>\n",
              "    .colab-df-container {\n",
              "      display:flex;\n",
              "      flex-wrap:wrap;\n",
              "      gap: 12px;\n",
              "    }\n",
              "\n",
              "    .colab-df-convert {\n",
              "      background-color: #E8F0FE;\n",
              "      border: none;\n",
              "      border-radius: 50%;\n",
              "      cursor: pointer;\n",
              "      display: none;\n",
              "      fill: #1967D2;\n",
              "      height: 32px;\n",
              "      padding: 0 0 0 0;\n",
              "      width: 32px;\n",
              "    }\n",
              "\n",
              "    .colab-df-convert:hover {\n",
              "      background-color: #E2EBFA;\n",
              "      box-shadow: 0px 1px 2px rgba(60, 64, 67, 0.3), 0px 1px 3px 1px rgba(60, 64, 67, 0.15);\n",
              "      fill: #174EA6;\n",
              "    }\n",
              "\n",
              "    [theme=dark] .colab-df-convert {\n",
              "      background-color: #3B4455;\n",
              "      fill: #D2E3FC;\n",
              "    }\n",
              "\n",
              "    [theme=dark] .colab-df-convert:hover {\n",
              "      background-color: #434B5C;\n",
              "      box-shadow: 0px 1px 3px 1px rgba(0, 0, 0, 0.15);\n",
              "      filter: drop-shadow(0px 1px 2px rgba(0, 0, 0, 0.3));\n",
              "      fill: #FFFFFF;\n",
              "    }\n",
              "  </style>\n",
              "\n",
              "      <script>\n",
              "        const buttonEl =\n",
              "          document.querySelector('#df-a2270773-bf9e-41be-80bc-366a7baf4a05 button.colab-df-convert');\n",
              "        buttonEl.style.display =\n",
              "          google.colab.kernel.accessAllowed ? 'block' : 'none';\n",
              "\n",
              "        async function convertToInteractive(key) {\n",
              "          const element = document.querySelector('#df-a2270773-bf9e-41be-80bc-366a7baf4a05');\n",
              "          const dataTable =\n",
              "            await google.colab.kernel.invokeFunction('convertToInteractive',\n",
              "                                                     [key], {});\n",
              "          if (!dataTable) return;\n",
              "\n",
              "          const docLinkHtml = 'Like what you see? Visit the ' +\n",
              "            '<a target=\"_blank\" href=https://colab.research.google.com/notebooks/data_table.ipynb>data table notebook</a>'\n",
              "            + ' to learn more about interactive tables.';\n",
              "          element.innerHTML = '';\n",
              "          dataTable['output_type'] = 'display_data';\n",
              "          await google.colab.output.renderOutput(dataTable, element);\n",
              "          const docLink = document.createElement('div');\n",
              "          docLink.innerHTML = docLinkHtml;\n",
              "          element.appendChild(docLink);\n",
              "        }\n",
              "      </script>\n",
              "    </div>\n",
              "  </div>\n",
              "  "
            ]
          },
          "metadata": {},
          "execution_count": 27
        }
      ]
    },
    {
      "cell_type": "markdown",
      "source": [
        "You can export the results as an excel file or as csv using **to_excel** or **to_csv** command"
      ],
      "metadata": {
        "id": "y96xqtviBp7b"
      }
    },
    {
      "cell_type": "code",
      "source": [
        "qaPairs.to_excel('generatedQA.xlsx')"
      ],
      "metadata": {
        "id": "XWwXRQz-B2R2"
      },
      "execution_count": null,
      "outputs": []
    }
  ]
}